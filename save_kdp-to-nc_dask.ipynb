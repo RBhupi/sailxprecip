{
 "cells": [
  {
   "cell_type": "markdown",
   "id": "3faa6f9a-0661-4ed5-a79d-656b20a47a24",
   "metadata": {},
   "source": [
    "## KDP Computation\n",
    "The notebook computes KDP using two methods (Maesaka and Giangrande's LP method) and write data to netcdf for analysis.\n"
   ]
  },
  {
   "cell_type": "code",
   "execution_count": 7,
   "id": "6af79423-d6f6-4a22-998d-63342bc5861c",
   "metadata": {},
   "outputs": [],
   "source": [
    "import pyart\n",
    "import glob\n",
    "import matplotlib.pyplot as plt\n",
    "import cartopy.crs as ccrs\n",
    "import numpy as np\n",
    "import sys\n",
    "import os.path as Path"
   ]
  },
  {
   "cell_type": "markdown",
   "id": "d7631c53-6804-4a9f-b68c-2765f6c428bb",
   "metadata": {},
   "source": [
    "#### First Function to run for KDP"
   ]
  },
  {
   "cell_type": "code",
   "execution_count": 8,
   "id": "37086b70-e874-4261-92be-146110265da1",
   "metadata": {},
   "outputs": [],
   "source": [
    "def run_kdp_to_nc(radar_fname):\n",
    "    try:\n",
    "        radar = kdp(radar_fname)\n",
    "    except OSError:\n",
    "        print('ERROR: rerun file: '+radar_fname)\n",
    "    else:\n",
    "        write_kdp_to_nc(radar_fname, radar)"
   ]
  },
  {
   "cell_type": "markdown",
   "id": "f3c38802-5e62-49ee-a935-ab69ff71ee74",
   "metadata": {},
   "source": [
    "#### Function to compute KDP"
   ]
  },
  {
   "cell_type": "code",
   "execution_count": 9,
   "id": "68453498-510b-445f-8c58-9043e907ba63",
   "metadata": {},
   "outputs": [],
   "source": [
    "def kdp(radar_fname):\n",
    "\n",
    "    radar = read_sweep(radar_fname, sweep=3)    \n",
    "    #### get texture\n",
    "    #radar=texture(radar)\n",
    "    PHIDP_LP, KDP_LP = pyart.correct.phase_proc_lp(radar, 0.0,\n",
    "                                                   ncp_field='NCP',\n",
    "                                                   refl_field='DBZ',\n",
    "                                                   rhv_field='RHOHV',\n",
    "                                                   phidp_field='PHIDP')\n",
    "\n",
    "    radar.fields['PHIDP_LP']=PHIDP_LP\n",
    "    radar.fields['KDP_LP']=KDP_LP\n",
    "    \n",
    "    kdp, _for_kdp, r_kdp = pyart.retrieve.kdp_maesaka(radar, refl_field='DBZ',\n",
    "                                                  #psidp_field='PHIDP_LP')\n",
    "    \n",
    "    radar.fields['KDP_maesaka']=kdp\n",
    "    \n",
    "    return radar\n"
   ]
  },
  {
   "cell_type": "code",
   "execution_count": 10,
   "id": "b2f86b46-fae1-4e28-9024-caf52c7bffb7",
   "metadata": {},
   "outputs": [],
   "source": [
    "def read_sweep(radar_fname, sweep=0):\n",
    "    radar = pyart.io.read(radar_fname)\n",
    "    radar = radar.extract_sweeps([sweep])\n",
    "    return radar"
   ]
  },
  {
   "cell_type": "markdown",
   "id": "ca7895e7-26c5-44b3-9eaa-e20b90245eed",
   "metadata": {},
   "source": [
    "#### The texture method is defined below but currently not used."
   ]
  },
  {
   "cell_type": "code",
   "execution_count": 11,
   "id": "a49683c2-b358-4005-afb6-d1218c0c596c",
   "metadata": {},
   "outputs": [],
   "source": [
    "def texture(radar):\n",
    "    nyquist_value = radar.fields['VEL']['data'].max()\n",
    "    vel_texture = pyart.retrieve.calculate_velocity_texture(radar,\n",
    "                                                        vel_field='VEL',\n",
    "                                                        nyq=nyquist_value)\n",
    "\n",
    "    radar.add_field('velocity_texture', vel_texture, replace_existing=True)\n",
    "\n",
    "    phidp_texture = pyart.retrieve.texture_of_complex_phase(radar, phidp_field='PHIDP', phidp_texture_field='phidp_texture')\n",
    "\n",
    "    radar.add_field('phidp_texture', phidp_texture, replace_existing=True)\n",
    "    return radar"
   ]
  },
  {
   "cell_type": "markdown",
   "id": "4b825362-fb41-4a47-8a2e-800d04cb28e3",
   "metadata": {},
   "source": [
    "#### Write the selected data to file"
   ]
  },
  {
   "cell_type": "code",
   "execution_count": 12,
   "id": "c9dd1bed-f882-427c-8e17-2bdb822f38d7",
   "metadata": {},
   "outputs": [],
   "source": [
    "def write_kdp_to_nc(radar_fname, radar):\n",
    "    #remove unwanted fields\n",
    "    radar.fields.pop('VEL')\n",
    "    radar.fields.pop('WIDTH')\n",
    "    radar.fields.pop('PHIDP')\n",
    "    radar.fields.pop('unfolded_differential_phase')\n",
    "    radar.fields.pop('DBZhv')\n",
    "    \n",
    "    cfrad_fname = Path.basename(radar_fname.replace('.b1.nc', '.b1_kdp-lp.nc'))\n",
    "    cfrad_fname = '/ccsopen/home/braut/output/kdp_lp_cmac/'+cfrad_fname\n",
    "    print('writing ... '+cfrad_fname)\n",
    "    pyart.io.write_cfradial(cfrad_fname, radar)"
   ]
  },
  {
   "cell_type": "markdown",
   "id": "9b33116f-82f8-46a4-939f-35b474d6ed58",
   "metadata": {},
   "source": [
    "# Main code"
   ]
  },
  {
   "cell_type": "code",
   "execution_count": 7,
   "id": "85c6a63b-2e9c-4d52-8c51-32be943eb5a4",
   "metadata": {},
   "outputs": [
    {
     "data": {
      "text/plain": [
       "240"
      ]
     },
     "execution_count": 7,
     "metadata": {},
     "output_type": "execute_result"
    }
   ],
   "source": [
    "hour = '19'\n",
    "day = '25'\n",
    "month = '08'\n",
    "year = '2022'\n",
    "#files = sorted(glob.glob(f'/gpfs/wolf/atm124/proj-shared/gucxprecipradarS2.00/glue_files/{year}{month}_glued/xprecipradar_guc_volume_{year}{month}{day}-{hour}*'))\n",
    "#files = sorted(glob.glob(f'/gpfs/wolf/atm124/proj-shared/gucxprecipradarS2.00/glue_files/{year}{month}_glued/xprecipradar_guc_volume_{year}{month}{day}*'))\n",
    "files = sorted(glob.glob(f'/gpfs/wolf/atm124/proj-shared/gucxprecipradarcmacS2.c1/ppi/{year}{month}/*{year}{month}{day}*.nc'))\n",
    "\n",
    "len(files)"
   ]
  },
  {
   "cell_type": "code",
   "execution_count": 10,
   "id": "114666b5-1f8a-4c28-ac48-5319daf4eb19",
   "metadata": {},
   "outputs": [
    {
     "name": "stdout",
     "output_type": "stream",
     "text": [
      "writing ... /ccsopen/home/braut/output/kdp_lp_cmac/gucxprecipradarcmacS2.c1.20220825.000437.nc\n",
      "writing ... /ccsopen/home/braut/output/kdp_lp_cmac/gucxprecipradarcmacS2.c1.20220825.001037.nc\n",
      "writing ... /ccsopen/home/braut/output/kdp_lp_cmac/gucxprecipradarcmacS2.c1.20220825.001636.nc\n",
      "writing ... /ccsopen/home/braut/output/kdp_lp_cmac/gucxprecipradarcmacS2.c1.20220825.002237.nc\n",
      "writing ... /ccsopen/home/braut/output/kdp_lp_cmac/gucxprecipradarcmacS2.c1.20220825.002837.nc\n",
      "writing ... /ccsopen/home/braut/output/kdp_lp_cmac/gucxprecipradarcmacS2.c1.20220825.003437.nc\n",
      "writing ... /ccsopen/home/braut/output/kdp_lp_cmac/gucxprecipradarcmacS2.c1.20220825.004037.nc\n",
      "writing ... /ccsopen/home/braut/output/kdp_lp_cmac/gucxprecipradarcmacS2.c1.20220825.004637.nc\n",
      "writing ... /ccsopen/home/braut/output/kdp_lp_cmac/gucxprecipradarcmacS2.c1.20220825.005237.nc\n",
      "writing ... /ccsopen/home/braut/output/kdp_lp_cmac/gucxprecipradarcmacS2.c1.20220825.005837.nc\n",
      "writing ... /ccsopen/home/braut/output/kdp_lp_cmac/gucxprecipradarcmacS2.c1.20220825.010437.nc\n",
      "writing ... /ccsopen/home/braut/output/kdp_lp_cmac/gucxprecipradarcmacS2.c1.20220825.011036.nc\n",
      "writing ... /ccsopen/home/braut/output/kdp_lp_cmac/gucxprecipradarcmacS2.c1.20220825.011637.nc\n",
      "writing ... /ccsopen/home/braut/output/kdp_lp_cmac/gucxprecipradarcmacS2.c1.20220825.012237.nc\n",
      "writing ... /ccsopen/home/braut/output/kdp_lp_cmac/gucxprecipradarcmacS2.c1.20220825.012837.nc\n",
      "writing ... /ccsopen/home/braut/output/kdp_lp_cmac/gucxprecipradarcmacS2.c1.20220825.013437.nc\n",
      "writing ... /ccsopen/home/braut/output/kdp_lp_cmac/gucxprecipradarcmacS2.c1.20220825.014037.nc\n",
      "writing ... /ccsopen/home/braut/output/kdp_lp_cmac/gucxprecipradarcmacS2.c1.20220825.014637.nc\n",
      "writing ... /ccsopen/home/braut/output/kdp_lp_cmac/gucxprecipradarcmacS2.c1.20220825.015237.nc\n",
      "writing ... /ccsopen/home/braut/output/kdp_lp_cmac/gucxprecipradarcmacS2.c1.20220825.015837.nc\n",
      "writing ... /ccsopen/home/braut/output/kdp_lp_cmac/gucxprecipradarcmacS2.c1.20220825.020437.nc\n",
      "writing ... /ccsopen/home/braut/output/kdp_lp_cmac/gucxprecipradarcmacS2.c1.20220825.021037.nc\n",
      "writing ... /ccsopen/home/braut/output/kdp_lp_cmac/gucxprecipradarcmacS2.c1.20220825.021637.nc\n",
      "writing ... /ccsopen/home/braut/output/kdp_lp_cmac/gucxprecipradarcmacS2.c1.20220825.022237.nc\n",
      "writing ... /ccsopen/home/braut/output/kdp_lp_cmac/gucxprecipradarcmacS2.c1.20220825.022837.nc\n",
      "writing ... /ccsopen/home/braut/output/kdp_lp_cmac/gucxprecipradarcmacS2.c1.20220825.023437.nc\n",
      "writing ... /ccsopen/home/braut/output/kdp_lp_cmac/gucxprecipradarcmacS2.c1.20220825.024037.nc\n",
      "writing ... /ccsopen/home/braut/output/kdp_lp_cmac/gucxprecipradarcmacS2.c1.20220825.024638.nc\n",
      "writing ... /ccsopen/home/braut/output/kdp_lp_cmac/gucxprecipradarcmacS2.c1.20220825.025237.nc\n",
      "writing ... /ccsopen/home/braut/output/kdp_lp_cmac/gucxprecipradarcmacS2.c1.20220825.025837.nc\n",
      "writing ... /ccsopen/home/braut/output/kdp_lp_cmac/gucxprecipradarcmacS2.c1.20220825.030438.nc\n",
      "writing ... /ccsopen/home/braut/output/kdp_lp_cmac/gucxprecipradarcmacS2.c1.20220825.031038.nc\n",
      "writing ... /ccsopen/home/braut/output/kdp_lp_cmac/gucxprecipradarcmacS2.c1.20220825.031637.nc\n",
      "writing ... /ccsopen/home/braut/output/kdp_lp_cmac/gucxprecipradarcmacS2.c1.20220825.032238.nc\n",
      "writing ... /ccsopen/home/braut/output/kdp_lp_cmac/gucxprecipradarcmacS2.c1.20220825.032838.nc\n",
      "writing ... /ccsopen/home/braut/output/kdp_lp_cmac/gucxprecipradarcmacS2.c1.20220825.033438.nc\n",
      "writing ... /ccsopen/home/braut/output/kdp_lp_cmac/gucxprecipradarcmacS2.c1.20220825.034037.nc\n",
      "writing ... /ccsopen/home/braut/output/kdp_lp_cmac/gucxprecipradarcmacS2.c1.20220825.034637.nc\n",
      "writing ... /ccsopen/home/braut/output/kdp_lp_cmac/gucxprecipradarcmacS2.c1.20220825.035238.nc\n",
      "writing ... /ccsopen/home/braut/output/kdp_lp_cmac/gucxprecipradarcmacS2.c1.20220825.035838.nc\n",
      "writing ... /ccsopen/home/braut/output/kdp_lp_cmac/gucxprecipradarcmacS2.c1.20220825.040438.nc\n",
      "writing ... /ccsopen/home/braut/output/kdp_lp_cmac/gucxprecipradarcmacS2.c1.20220825.041038.nc\n",
      "writing ... /ccsopen/home/braut/output/kdp_lp_cmac/gucxprecipradarcmacS2.c1.20220825.041638.nc\n",
      "writing ... /ccsopen/home/braut/output/kdp_lp_cmac/gucxprecipradarcmacS2.c1.20220825.042238.nc\n",
      "writing ... /ccsopen/home/braut/output/kdp_lp_cmac/gucxprecipradarcmacS2.c1.20220825.042838.nc\n",
      "writing ... /ccsopen/home/braut/output/kdp_lp_cmac/gucxprecipradarcmacS2.c1.20220825.043438.nc\n",
      "writing ... /ccsopen/home/braut/output/kdp_lp_cmac/gucxprecipradarcmacS2.c1.20220825.044038.nc\n",
      "writing ... /ccsopen/home/braut/output/kdp_lp_cmac/gucxprecipradarcmacS2.c1.20220825.044638.nc\n",
      "writing ... /ccsopen/home/braut/output/kdp_lp_cmac/gucxprecipradarcmacS2.c1.20220825.045238.nc\n",
      "writing ... /ccsopen/home/braut/output/kdp_lp_cmac/gucxprecipradarcmacS2.c1.20220825.045838.nc\n",
      "writing ... /ccsopen/home/braut/output/kdp_lp_cmac/gucxprecipradarcmacS2.c1.20220825.050438.nc\n",
      "writing ... /ccsopen/home/braut/output/kdp_lp_cmac/gucxprecipradarcmacS2.c1.20220825.051038.nc\n",
      "writing ... /ccsopen/home/braut/output/kdp_lp_cmac/gucxprecipradarcmacS2.c1.20220825.051638.nc\n",
      "writing ... /ccsopen/home/braut/output/kdp_lp_cmac/gucxprecipradarcmacS2.c1.20220825.052238.nc\n",
      "writing ... /ccsopen/home/braut/output/kdp_lp_cmac/gucxprecipradarcmacS2.c1.20220825.052839.nc\n",
      "writing ... /ccsopen/home/braut/output/kdp_lp_cmac/gucxprecipradarcmacS2.c1.20220825.053438.nc\n",
      "writing ... /ccsopen/home/braut/output/kdp_lp_cmac/gucxprecipradarcmacS2.c1.20220825.054038.nc\n",
      "writing ... /ccsopen/home/braut/output/kdp_lp_cmac/gucxprecipradarcmacS2.c1.20220825.054639.nc\n",
      "writing ... /ccsopen/home/braut/output/kdp_lp_cmac/gucxprecipradarcmacS2.c1.20220825.055239.nc\n",
      "writing ... /ccsopen/home/braut/output/kdp_lp_cmac/gucxprecipradarcmacS2.c1.20220825.055839.nc\n",
      "writing ... /ccsopen/home/braut/output/kdp_lp_cmac/gucxprecipradarcmacS2.c1.20220825.060439.nc\n",
      "writing ... /ccsopen/home/braut/output/kdp_lp_cmac/gucxprecipradarcmacS2.c1.20220825.061039.nc\n",
      "writing ... /ccsopen/home/braut/output/kdp_lp_cmac/gucxprecipradarcmacS2.c1.20220825.061639.nc\n",
      "writing ... /ccsopen/home/braut/output/kdp_lp_cmac/gucxprecipradarcmacS2.c1.20220825.062238.nc\n",
      "writing ... /ccsopen/home/braut/output/kdp_lp_cmac/gucxprecipradarcmacS2.c1.20220825.062839.nc\n",
      "writing ... /ccsopen/home/braut/output/kdp_lp_cmac/gucxprecipradarcmacS2.c1.20220825.063439.nc\n",
      "writing ... /ccsopen/home/braut/output/kdp_lp_cmac/gucxprecipradarcmacS2.c1.20220825.064039.nc\n",
      "writing ... /ccsopen/home/braut/output/kdp_lp_cmac/gucxprecipradarcmacS2.c1.20220825.064639.nc\n",
      "writing ... /ccsopen/home/braut/output/kdp_lp_cmac/gucxprecipradarcmacS2.c1.20220825.065239.nc\n",
      "writing ... /ccsopen/home/braut/output/kdp_lp_cmac/gucxprecipradarcmacS2.c1.20220825.065839.nc\n",
      "writing ... /ccsopen/home/braut/output/kdp_lp_cmac/gucxprecipradarcmacS2.c1.20220825.070439.nc\n",
      "writing ... /ccsopen/home/braut/output/kdp_lp_cmac/gucxprecipradarcmacS2.c1.20220825.071039.nc\n",
      "writing ... /ccsopen/home/braut/output/kdp_lp_cmac/gucxprecipradarcmacS2.c1.20220825.071639.nc\n",
      "writing ... /ccsopen/home/braut/output/kdp_lp_cmac/gucxprecipradarcmacS2.c1.20220825.072239.nc\n",
      "writing ... /ccsopen/home/braut/output/kdp_lp_cmac/gucxprecipradarcmacS2.c1.20220825.072839.nc\n",
      "writing ... /ccsopen/home/braut/output/kdp_lp_cmac/gucxprecipradarcmacS2.c1.20220825.073439.nc\n",
      "writing ... /ccsopen/home/braut/output/kdp_lp_cmac/gucxprecipradarcmacS2.c1.20220825.074039.nc\n",
      "writing ... /ccsopen/home/braut/output/kdp_lp_cmac/gucxprecipradarcmacS2.c1.20220825.074639.nc\n",
      "writing ... /ccsopen/home/braut/output/kdp_lp_cmac/gucxprecipradarcmacS2.c1.20220825.075239.nc\n",
      "writing ... /ccsopen/home/braut/output/kdp_lp_cmac/gucxprecipradarcmacS2.c1.20220825.075839.nc\n",
      "writing ... /ccsopen/home/braut/output/kdp_lp_cmac/gucxprecipradarcmacS2.c1.20220825.080439.nc\n",
      "writing ... /ccsopen/home/braut/output/kdp_lp_cmac/gucxprecipradarcmacS2.c1.20220825.081039.nc\n",
      "writing ... /ccsopen/home/braut/output/kdp_lp_cmac/gucxprecipradarcmacS2.c1.20220825.081639.nc\n",
      "writing ... /ccsopen/home/braut/output/kdp_lp_cmac/gucxprecipradarcmacS2.c1.20220825.082239.nc\n",
      "writing ... /ccsopen/home/braut/output/kdp_lp_cmac/gucxprecipradarcmacS2.c1.20220825.082840.nc\n",
      "writing ... /ccsopen/home/braut/output/kdp_lp_cmac/gucxprecipradarcmacS2.c1.20220825.083440.nc\n",
      "writing ... /ccsopen/home/braut/output/kdp_lp_cmac/gucxprecipradarcmacS2.c1.20220825.084040.nc\n",
      "writing ... /ccsopen/home/braut/output/kdp_lp_cmac/gucxprecipradarcmacS2.c1.20220825.084640.nc\n",
      "writing ... /ccsopen/home/braut/output/kdp_lp_cmac/gucxprecipradarcmacS2.c1.20220825.085240.nc\n",
      "writing ... /ccsopen/home/braut/output/kdp_lp_cmac/gucxprecipradarcmacS2.c1.20220825.085840.nc\n",
      "writing ... /ccsopen/home/braut/output/kdp_lp_cmac/gucxprecipradarcmacS2.c1.20220825.090440.nc\n",
      "writing ... /ccsopen/home/braut/output/kdp_lp_cmac/gucxprecipradarcmacS2.c1.20220825.091039.nc\n",
      "writing ... /ccsopen/home/braut/output/kdp_lp_cmac/gucxprecipradarcmacS2.c1.20220825.091640.nc\n",
      "writing ... /ccsopen/home/braut/output/kdp_lp_cmac/gucxprecipradarcmacS2.c1.20220825.092240.nc\n",
      "writing ... /ccsopen/home/braut/output/kdp_lp_cmac/gucxprecipradarcmacS2.c1.20220825.092840.nc\n",
      "writing ... /ccsopen/home/braut/output/kdp_lp_cmac/gucxprecipradarcmacS2.c1.20220825.093440.nc\n",
      "writing ... /ccsopen/home/braut/output/kdp_lp_cmac/gucxprecipradarcmacS2.c1.20220825.094040.nc\n",
      "writing ... /ccsopen/home/braut/output/kdp_lp_cmac/gucxprecipradarcmacS2.c1.20220825.094640.nc\n",
      "writing ... /ccsopen/home/braut/output/kdp_lp_cmac/gucxprecipradarcmacS2.c1.20220825.095240.nc\n",
      "writing ... /ccsopen/home/braut/output/kdp_lp_cmac/gucxprecipradarcmacS2.c1.20220825.095840.nc\n",
      "writing ... /ccsopen/home/braut/output/kdp_lp_cmac/gucxprecipradarcmacS2.c1.20220825.100440.nc\n",
      "writing ... /ccsopen/home/braut/output/kdp_lp_cmac/gucxprecipradarcmacS2.c1.20220825.101040.nc\n",
      "writing ... /ccsopen/home/braut/output/kdp_lp_cmac/gucxprecipradarcmacS2.c1.20220825.101640.nc\n",
      "writing ... /ccsopen/home/braut/output/kdp_lp_cmac/gucxprecipradarcmacS2.c1.20220825.102240.nc\n",
      "writing ... /ccsopen/home/braut/output/kdp_lp_cmac/gucxprecipradarcmacS2.c1.20220825.102840.nc\n",
      "writing ... /ccsopen/home/braut/output/kdp_lp_cmac/gucxprecipradarcmacS2.c1.20220825.103440.nc\n",
      "writing ... /ccsopen/home/braut/output/kdp_lp_cmac/gucxprecipradarcmacS2.c1.20220825.104040.nc\n",
      "writing ... /ccsopen/home/braut/output/kdp_lp_cmac/gucxprecipradarcmacS2.c1.20220825.104640.nc\n",
      "writing ... /ccsopen/home/braut/output/kdp_lp_cmac/gucxprecipradarcmacS2.c1.20220825.105240.nc\n",
      "writing ... /ccsopen/home/braut/output/kdp_lp_cmac/gucxprecipradarcmacS2.c1.20220825.105840.nc\n",
      "writing ... /ccsopen/home/braut/output/kdp_lp_cmac/gucxprecipradarcmacS2.c1.20220825.110440.nc\n",
      "writing ... /ccsopen/home/braut/output/kdp_lp_cmac/gucxprecipradarcmacS2.c1.20220825.111041.nc\n",
      "writing ... /ccsopen/home/braut/output/kdp_lp_cmac/gucxprecipradarcmacS2.c1.20220825.111640.nc\n",
      "writing ... /ccsopen/home/braut/output/kdp_lp_cmac/gucxprecipradarcmacS2.c1.20220825.112240.nc\n",
      "writing ... /ccsopen/home/braut/output/kdp_lp_cmac/gucxprecipradarcmacS2.c1.20220825.112841.nc\n",
      "writing ... /ccsopen/home/braut/output/kdp_lp_cmac/gucxprecipradarcmacS2.c1.20220825.113441.nc\n",
      "writing ... /ccsopen/home/braut/output/kdp_lp_cmac/gucxprecipradarcmacS2.c1.20220825.114040.nc\n",
      "writing ... /ccsopen/home/braut/output/kdp_lp_cmac/gucxprecipradarcmacS2.c1.20220825.114640.nc\n",
      "writing ... /ccsopen/home/braut/output/kdp_lp_cmac/gucxprecipradarcmacS2.c1.20220825.115240.nc\n",
      "writing ... /ccsopen/home/braut/output/kdp_lp_cmac/gucxprecipradarcmacS2.c1.20220825.115841.nc\n",
      "writing ... /ccsopen/home/braut/output/kdp_lp_cmac/gucxprecipradarcmacS2.c1.20220825.120440.nc\n",
      "writing ... /ccsopen/home/braut/output/kdp_lp_cmac/gucxprecipradarcmacS2.c1.20220825.121041.nc\n",
      "writing ... /ccsopen/home/braut/output/kdp_lp_cmac/gucxprecipradarcmacS2.c1.20220825.121641.nc\n",
      "writing ... /ccsopen/home/braut/output/kdp_lp_cmac/gucxprecipradarcmacS2.c1.20220825.122241.nc\n",
      "writing ... /ccsopen/home/braut/output/kdp_lp_cmac/gucxprecipradarcmacS2.c1.20220825.122841.nc\n",
      "writing ... /ccsopen/home/braut/output/kdp_lp_cmac/gucxprecipradarcmacS2.c1.20220825.123441.nc\n",
      "writing ... /ccsopen/home/braut/output/kdp_lp_cmac/gucxprecipradarcmacS2.c1.20220825.124041.nc\n",
      "writing ... /ccsopen/home/braut/output/kdp_lp_cmac/gucxprecipradarcmacS2.c1.20220825.124641.nc\n",
      "writing ... /ccsopen/home/braut/output/kdp_lp_cmac/gucxprecipradarcmacS2.c1.20220825.125241.nc\n",
      "writing ... /ccsopen/home/braut/output/kdp_lp_cmac/gucxprecipradarcmacS2.c1.20220825.125841.nc\n",
      "writing ... /ccsopen/home/braut/output/kdp_lp_cmac/gucxprecipradarcmacS2.c1.20220825.130441.nc\n",
      "writing ... /ccsopen/home/braut/output/kdp_lp_cmac/gucxprecipradarcmacS2.c1.20220825.131041.nc\n",
      "writing ... /ccsopen/home/braut/output/kdp_lp_cmac/gucxprecipradarcmacS2.c1.20220825.131641.nc\n",
      "writing ... /ccsopen/home/braut/output/kdp_lp_cmac/gucxprecipradarcmacS2.c1.20220825.132241.nc\n",
      "writing ... /ccsopen/home/braut/output/kdp_lp_cmac/gucxprecipradarcmacS2.c1.20220825.132841.nc\n",
      "writing ... /ccsopen/home/braut/output/kdp_lp_cmac/gucxprecipradarcmacS2.c1.20220825.133441.nc\n",
      "writing ... /ccsopen/home/braut/output/kdp_lp_cmac/gucxprecipradarcmacS2.c1.20220825.134037.nc\n",
      "writing ... /ccsopen/home/braut/output/kdp_lp_cmac/gucxprecipradarcmacS2.c1.20220825.134641.nc\n",
      "writing ... /ccsopen/home/braut/output/kdp_lp_cmac/gucxprecipradarcmacS2.c1.20220825.135241.nc\n",
      "writing ... /ccsopen/home/braut/output/kdp_lp_cmac/gucxprecipradarcmacS2.c1.20220825.135842.nc\n",
      "writing ... /ccsopen/home/braut/output/kdp_lp_cmac/gucxprecipradarcmacS2.c1.20220825.140442.nc\n",
      "writing ... /ccsopen/home/braut/output/kdp_lp_cmac/gucxprecipradarcmacS2.c1.20220825.141041.nc\n",
      "writing ... /ccsopen/home/braut/output/kdp_lp_cmac/gucxprecipradarcmacS2.c1.20220825.141642.nc\n",
      "writing ... /ccsopen/home/braut/output/kdp_lp_cmac/gucxprecipradarcmacS2.c1.20220825.142241.nc\n",
      "writing ... /ccsopen/home/braut/output/kdp_lp_cmac/gucxprecipradarcmacS2.c1.20220825.142842.nc\n",
      "writing ... /ccsopen/home/braut/output/kdp_lp_cmac/gucxprecipradarcmacS2.c1.20220825.143441.nc\n",
      "writing ... /ccsopen/home/braut/output/kdp_lp_cmac/gucxprecipradarcmacS2.c1.20220825.144041.nc\n",
      "writing ... /ccsopen/home/braut/output/kdp_lp_cmac/gucxprecipradarcmacS2.c1.20220825.144641.nc\n",
      "writing ... /ccsopen/home/braut/output/kdp_lp_cmac/gucxprecipradarcmacS2.c1.20220825.145241.nc\n",
      "writing ... /ccsopen/home/braut/output/kdp_lp_cmac/gucxprecipradarcmacS2.c1.20220825.145842.nc\n",
      "writing ... /ccsopen/home/braut/output/kdp_lp_cmac/gucxprecipradarcmacS2.c1.20220825.150442.nc\n",
      "writing ... /ccsopen/home/braut/output/kdp_lp_cmac/gucxprecipradarcmacS2.c1.20220825.151042.nc\n",
      "writing ... /ccsopen/home/braut/output/kdp_lp_cmac/gucxprecipradarcmacS2.c1.20220825.151642.nc\n",
      "writing ... /ccsopen/home/braut/output/kdp_lp_cmac/gucxprecipradarcmacS2.c1.20220825.152242.nc\n",
      "writing ... /ccsopen/home/braut/output/kdp_lp_cmac/gucxprecipradarcmacS2.c1.20220825.152842.nc\n",
      "writing ... /ccsopen/home/braut/output/kdp_lp_cmac/gucxprecipradarcmacS2.c1.20220825.153442.nc\n",
      "writing ... /ccsopen/home/braut/output/kdp_lp_cmac/gucxprecipradarcmacS2.c1.20220825.154042.nc\n",
      "writing ... /ccsopen/home/braut/output/kdp_lp_cmac/gucxprecipradarcmacS2.c1.20220825.154642.nc\n",
      "writing ... /ccsopen/home/braut/output/kdp_lp_cmac/gucxprecipradarcmacS2.c1.20220825.155242.nc\n",
      "writing ... /ccsopen/home/braut/output/kdp_lp_cmac/gucxprecipradarcmacS2.c1.20220825.155842.nc\n",
      "writing ... /ccsopen/home/braut/output/kdp_lp_cmac/gucxprecipradarcmacS2.c1.20220825.160442.nc\n",
      "writing ... /ccsopen/home/braut/output/kdp_lp_cmac/gucxprecipradarcmacS2.c1.20220825.161042.nc\n",
      "writing ... /ccsopen/home/braut/output/kdp_lp_cmac/gucxprecipradarcmacS2.c1.20220825.161642.nc\n",
      "writing ... /ccsopen/home/braut/output/kdp_lp_cmac/gucxprecipradarcmacS2.c1.20220825.162243.nc\n",
      "writing ... /ccsopen/home/braut/output/kdp_lp_cmac/gucxprecipradarcmacS2.c1.20220825.162841.nc\n",
      "writing ... /ccsopen/home/braut/output/kdp_lp_cmac/gucxprecipradarcmacS2.c1.20220825.163441.nc\n",
      "writing ... /ccsopen/home/braut/output/kdp_lp_cmac/gucxprecipradarcmacS2.c1.20220825.164042.nc\n",
      "writing ... /ccsopen/home/braut/output/kdp_lp_cmac/gucxprecipradarcmacS2.c1.20220825.164642.nc\n",
      "writing ... /ccsopen/home/braut/output/kdp_lp_cmac/gucxprecipradarcmacS2.c1.20220825.165242.nc\n",
      "writing ... /ccsopen/home/braut/output/kdp_lp_cmac/gucxprecipradarcmacS2.c1.20220825.165842.nc\n",
      "writing ... /ccsopen/home/braut/output/kdp_lp_cmac/gucxprecipradarcmacS2.c1.20220825.170442.nc\n",
      "writing ... /ccsopen/home/braut/output/kdp_lp_cmac/gucxprecipradarcmacS2.c1.20220825.171042.nc\n",
      "writing ... /ccsopen/home/braut/output/kdp_lp_cmac/gucxprecipradarcmacS2.c1.20220825.171642.nc\n",
      "writing ... /ccsopen/home/braut/output/kdp_lp_cmac/gucxprecipradarcmacS2.c1.20220825.172242.nc\n",
      "writing ... /ccsopen/home/braut/output/kdp_lp_cmac/gucxprecipradarcmacS2.c1.20220825.172843.nc\n",
      "writing ... /ccsopen/home/braut/output/kdp_lp_cmac/gucxprecipradarcmacS2.c1.20220825.173442.nc\n",
      "writing ... /ccsopen/home/braut/output/kdp_lp_cmac/gucxprecipradarcmacS2.c1.20220825.174042.nc\n",
      "writing ... /ccsopen/home/braut/output/kdp_lp_cmac/gucxprecipradarcmacS2.c1.20220825.174642.nc\n",
      "writing ... /ccsopen/home/braut/output/kdp_lp_cmac/gucxprecipradarcmacS2.c1.20220825.175243.nc\n",
      "writing ... /ccsopen/home/braut/output/kdp_lp_cmac/gucxprecipradarcmacS2.c1.20220825.175843.nc\n",
      "writing ... /ccsopen/home/braut/output/kdp_lp_cmac/gucxprecipradarcmacS2.c1.20220825.182243.nc\n",
      "writing ... /ccsopen/home/braut/output/kdp_lp_cmac/gucxprecipradarcmacS2.c1.20220825.182843.nc\n",
      "writing ... /ccsopen/home/braut/output/kdp_lp_cmac/gucxprecipradarcmacS2.c1.20220825.183443.nc\n",
      "writing ... /ccsopen/home/braut/output/kdp_lp_cmac/gucxprecipradarcmacS2.c1.20220825.184043.nc\n",
      "writing ... /ccsopen/home/braut/output/kdp_lp_cmac/gucxprecipradarcmacS2.c1.20220825.184643.nc\n",
      "writing ... /ccsopen/home/braut/output/kdp_lp_cmac/gucxprecipradarcmacS2.c1.20220825.185243.nc\n",
      "writing ... /ccsopen/home/braut/output/kdp_lp_cmac/gucxprecipradarcmacS2.c1.20220825.185843.nc\n",
      "writing ... /ccsopen/home/braut/output/kdp_lp_cmac/gucxprecipradarcmacS2.c1.20220825.190443.nc\n",
      "writing ... /ccsopen/home/braut/output/kdp_lp_cmac/gucxprecipradarcmacS2.c1.20220825.191043.nc\n",
      "writing ... /ccsopen/home/braut/output/kdp_lp_cmac/gucxprecipradarcmacS2.c1.20220825.191643.nc\n",
      "writing ... /ccsopen/home/braut/output/kdp_lp_cmac/gucxprecipradarcmacS2.c1.20220825.192243.nc\n",
      "writing ... /ccsopen/home/braut/output/kdp_lp_cmac/gucxprecipradarcmacS2.c1.20220825.192843.nc\n",
      "writing ... /ccsopen/home/braut/output/kdp_lp_cmac/gucxprecipradarcmacS2.c1.20220825.193443.nc\n",
      "writing ... /ccsopen/home/braut/output/kdp_lp_cmac/gucxprecipradarcmacS2.c1.20220825.194043.nc\n",
      "writing ... /ccsopen/home/braut/output/kdp_lp_cmac/gucxprecipradarcmacS2.c1.20220825.194643.nc\n",
      "writing ... /ccsopen/home/braut/output/kdp_lp_cmac/gucxprecipradarcmacS2.c1.20220825.195243.nc\n",
      "writing ... /ccsopen/home/braut/output/kdp_lp_cmac/gucxprecipradarcmacS2.c1.20220825.195843.nc\n",
      "writing ... /ccsopen/home/braut/output/kdp_lp_cmac/gucxprecipradarcmacS2.c1.20220825.200444.nc\n",
      "writing ... /ccsopen/home/braut/output/kdp_lp_cmac/gucxprecipradarcmacS2.c1.20220825.201043.nc\n",
      "writing ... /ccsopen/home/braut/output/kdp_lp_cmac/gucxprecipradarcmacS2.c1.20220825.201643.nc\n",
      "writing ... /ccsopen/home/braut/output/kdp_lp_cmac/gucxprecipradarcmacS2.c1.20220825.202243.nc\n",
      "writing ... /ccsopen/home/braut/output/kdp_lp_cmac/gucxprecipradarcmacS2.c1.20220825.202843.nc\n",
      "writing ... /ccsopen/home/braut/output/kdp_lp_cmac/gucxprecipradarcmacS2.c1.20220825.203444.nc\n",
      "writing ... /ccsopen/home/braut/output/kdp_lp_cmac/gucxprecipradarcmacS2.c1.20220825.204044.nc\n",
      "writing ... /ccsopen/home/braut/output/kdp_lp_cmac/gucxprecipradarcmacS2.c1.20220825.204643.nc\n",
      "writing ... /ccsopen/home/braut/output/kdp_lp_cmac/gucxprecipradarcmacS2.c1.20220825.205243.nc\n",
      "writing ... /ccsopen/home/braut/output/kdp_lp_cmac/gucxprecipradarcmacS2.c1.20220825.205844.nc\n",
      "writing ... /ccsopen/home/braut/output/kdp_lp_cmac/gucxprecipradarcmacS2.c1.20220825.210443.nc\n",
      "writing ... /ccsopen/home/braut/output/kdp_lp_cmac/gucxprecipradarcmacS2.c1.20220825.211044.nc\n",
      "writing ... /ccsopen/home/braut/output/kdp_lp_cmac/gucxprecipradarcmacS2.c1.20220825.211644.nc\n",
      "writing ... /ccsopen/home/braut/output/kdp_lp_cmac/gucxprecipradarcmacS2.c1.20220825.212244.nc\n",
      "writing ... /ccsopen/home/braut/output/kdp_lp_cmac/gucxprecipradarcmacS2.c1.20220825.212844.nc\n",
      "writing ... /ccsopen/home/braut/output/kdp_lp_cmac/gucxprecipradarcmacS2.c1.20220825.213444.nc\n",
      "writing ... /ccsopen/home/braut/output/kdp_lp_cmac/gucxprecipradarcmacS2.c1.20220825.214044.nc\n",
      "writing ... /ccsopen/home/braut/output/kdp_lp_cmac/gucxprecipradarcmacS2.c1.20220825.214643.nc\n",
      "writing ... /ccsopen/home/braut/output/kdp_lp_cmac/gucxprecipradarcmacS2.c1.20220825.215243.nc\n",
      "writing ... /ccsopen/home/braut/output/kdp_lp_cmac/gucxprecipradarcmacS2.c1.20220825.215845.nc\n",
      "writing ... /ccsopen/home/braut/output/kdp_lp_cmac/gucxprecipradarcmacS2.c1.20220825.220444.nc\n",
      "writing ... /ccsopen/home/braut/output/kdp_lp_cmac/gucxprecipradarcmacS2.c1.20220825.221044.nc\n",
      "writing ... /ccsopen/home/braut/output/kdp_lp_cmac/gucxprecipradarcmacS2.c1.20220825.221644.nc\n",
      "writing ... /ccsopen/home/braut/output/kdp_lp_cmac/gucxprecipradarcmacS2.c1.20220825.222244.nc\n",
      "writing ... /ccsopen/home/braut/output/kdp_lp_cmac/gucxprecipradarcmacS2.c1.20220825.222844.nc\n",
      "writing ... /ccsopen/home/braut/output/kdp_lp_cmac/gucxprecipradarcmacS2.c1.20220825.223444.nc\n",
      "writing ... /ccsopen/home/braut/output/kdp_lp_cmac/gucxprecipradarcmacS2.c1.20220825.224044.nc\n",
      "writing ... /ccsopen/home/braut/output/kdp_lp_cmac/gucxprecipradarcmacS2.c1.20220825.224644.nc\n",
      "writing ... /ccsopen/home/braut/output/kdp_lp_cmac/gucxprecipradarcmacS2.c1.20220825.225244.nc\n",
      "writing ... /ccsopen/home/braut/output/kdp_lp_cmac/gucxprecipradarcmacS2.c1.20220825.225844.nc\n",
      "writing ... /ccsopen/home/braut/output/kdp_lp_cmac/gucxprecipradarcmacS2.c1.20220825.230444.nc\n",
      "writing ... /ccsopen/home/braut/output/kdp_lp_cmac/gucxprecipradarcmacS2.c1.20220825.231044.nc\n",
      "writing ... /ccsopen/home/braut/output/kdp_lp_cmac/gucxprecipradarcmacS2.c1.20220825.231645.nc\n",
      "writing ... /ccsopen/home/braut/output/kdp_lp_cmac/gucxprecipradarcmacS2.c1.20220825.232245.nc\n",
      "writing ... /ccsopen/home/braut/output/kdp_lp_cmac/gucxprecipradarcmacS2.c1.20220825.232845.nc\n",
      "writing ... /ccsopen/home/braut/output/kdp_lp_cmac/gucxprecipradarcmacS2.c1.20220825.233444.nc\n",
      "writing ... /ccsopen/home/braut/output/kdp_lp_cmac/gucxprecipradarcmacS2.c1.20220825.234045.nc\n",
      "writing ... /ccsopen/home/braut/output/kdp_lp_cmac/gucxprecipradarcmacS2.c1.20220825.234644.nc\n",
      "writing ... /ccsopen/home/braut/output/kdp_lp_cmac/gucxprecipradarcmacS2.c1.20220825.235244.nc\n",
      "writing ... /ccsopen/home/braut/output/kdp_lp_cmac/gucxprecipradarcmacS2.c1.20220825.235845.nc\n"
     ]
    }
   ],
   "source": [
    "for radar_fname in files:\n",
    "    run_kdp_to_nc(radar_fname)\n",
    "\n"
   ]
  },
  {
   "cell_type": "markdown",
   "id": "f1586a97-0346-45f8-8b65-2f3536f9cda8",
   "metadata": {},
   "source": [
    "# DASK"
   ]
  },
  {
   "cell_type": "code",
   "execution_count": 1,
   "id": "97a4ef38-1eb0-4551-9f18-8c87ec91cd24",
   "metadata": {},
   "outputs": [],
   "source": [
    "#radar = read_sweep(fname, sweep=3)\n",
    "#fname =  '/gpfs/wolf/atm124/proj-shared/gucxprecipradarS2.00/glue_files/202208_glued/xprecipradar_guc_volume_20220825-042238.b1.nc'\n",
    "#radar = pyart.io.read(fname)\n"
   ]
  },
  {
   "cell_type": "markdown",
   "id": "6579f07b-ca18-41fe-9757-cdf24c4517a7",
   "metadata": {},
   "source": [
    "from dask.distributed import Client, LocalCluster\n",
    "\n",
    "cluster = LocalCluster()\n",
    "\n",
    "cluster.scale(16)  # Sets the number of workers to 10\n",
    "cluster.adapt(minimum=8, maximum=16)\n",
    "client = Client(cluster)\n",
    "#client"
   ]
  },
  {
   "cell_type": "markdown",
   "id": "203ae6cd-d145-4ea6-ab39-6b537e0a012b",
   "metadata": {},
   "source": [
    "future = client.map(run_kdp_to_nc, files)\n"
   ]
  },
  {
   "cell_type": "code",
   "execution_count": 11,
   "id": "a5074fae-42b5-400e-9fbc-7f60224aa720",
   "metadata": {},
   "outputs": [
    {
     "name": "stderr",
     "output_type": "stream",
     "text": [
      "<frozen importlib._bootstrap>:283: DeprecationWarning: the load_module() method is deprecated and slated for removal in Python 3.12; use exec_module() instead\n",
      "<frozen importlib._bootstrap>:283: DeprecationWarning: the load_module() method is deprecated and slated for removal in Python 3.12; use exec_module() instead\n",
      "<frozen importlib._bootstrap>:283: DeprecationWarning: the load_module() method is deprecated and slated for removal in Python 3.12; use exec_module() instead\n",
      "<frozen importlib._bootstrap>:283: DeprecationWarning: the load_module() method is deprecated and slated for removal in Python 3.12; use exec_module() instead\n",
      "<frozen importlib._bootstrap>:283: DeprecationWarning: the load_module() method is deprecated and slated for removal in Python 3.12; use exec_module() instead\n",
      "<frozen importlib._bootstrap>:283: DeprecationWarning: the load_module() method is deprecated and slated for removal in Python 3.12; use exec_module() instead\n",
      "<frozen importlib._bootstrap>:283: DeprecationWarning: the load_module() method is deprecated and slated for removal in Python 3.12; use exec_module() instead\n",
      "<frozen importlib._bootstrap>:283: DeprecationWarning: the load_module() method is deprecated and slated for removal in Python 3.12; use exec_module() instead\n",
      "<frozen importlib._bootstrap>:283: DeprecationWarning: the load_module() method is deprecated and slated for removal in Python 3.12; use exec_module() instead\n",
      "<frozen importlib._bootstrap>:283: DeprecationWarning: the load_module() method is deprecated and slated for removal in Python 3.12; use exec_module() instead\n",
      "<frozen importlib._bootstrap>:283: DeprecationWarning: the load_module() method is deprecated and slated for removal in Python 3.12; use exec_module() instead\n",
      "<frozen importlib._bootstrap>:283: DeprecationWarning: the load_module() method is deprecated and slated for removal in Python 3.12; use exec_module() instead\n",
      "<frozen importlib._bootstrap>:283: DeprecationWarning: the load_module() method is deprecated and slated for removal in Python 3.12; use exec_module() instead\n",
      "<frozen importlib._bootstrap>:283: DeprecationWarning: the load_module() method is deprecated and slated for removal in Python 3.12; use exec_module() instead\n",
      "<frozen importlib._bootstrap>:283: DeprecationWarning: the load_module() method is deprecated and slated for removal in Python 3.12; use exec_module() instead\n",
      "<frozen importlib._bootstrap>:283: DeprecationWarning: the load_module() method is deprecated and slated for removal in Python 3.12; use exec_module() instead\n",
      "ERROR 1: PROJ: proj_create_from_database: Open of /ccsopen/home/braut/analysis-env2/share/proj failed\n",
      "ERROR 1: PROJ: proj_create_from_database: Open of /ccsopen/home/braut/analysis-env2/share/proj failed\n",
      "ERROR 1: PROJ: proj_create_from_database: Open of /ccsopen/home/braut/analysis-env2/share/proj failed\n",
      "ERROR 1: PROJ: proj_create_from_database: Open of /ccsopen/home/braut/analysis-env2/share/proj failed\n",
      "ERROR 1: PROJ: proj_create_from_database: Open of /ccsopen/home/braut/analysis-env2/share/proj failed\n",
      "ERROR 1: PROJ: proj_create_from_database: Open of /ccsopen/home/braut/analysis-env2/share/proj failed\n",
      "ERROR 1: PROJ: proj_create_from_database: Open of /ccsopen/home/braut/analysis-env2/share/proj failed\n",
      "ERROR 1: PROJ: proj_create_from_database: Open of /ccsopen/home/braut/analysis-env2/share/proj failed\n",
      "ERROR 1: PROJ: proj_create_from_database: Open of /ccsopen/home/braut/analysis-env2/share/proj failed\n",
      "ERROR 1: PROJ: proj_create_from_database: Open of /ccsopen/home/braut/analysis-env2/share/proj failed\n",
      "ERROR 1: PROJ: proj_create_from_database: Open of /ccsopen/home/braut/analysis-env2/share/proj failed\n",
      "ERROR 1: PROJ: proj_create_from_database: Open of /ccsopen/home/braut/analysis-env2/share/proj failed\n",
      "ERROR 1: PROJ: proj_create_from_database: Open of /ccsopen/home/braut/analysis-env2/share/proj failed\n",
      "ERROR 1: PROJ: proj_create_from_database: Open of /ccsopen/home/braut/analysis-env2/share/proj failed\n",
      "ERROR 1: PROJ: proj_create_from_database: Open of /ccsopen/home/braut/analysis-env2/share/proj failed\n",
      "ERROR 1: PROJ: proj_create_from_database: Open of /ccsopen/home/braut/analysis-env2/share/proj failed\n"
     ]
    },
    {
     "name": "stdout",
     "output_type": "stream",
     "text": [
      "glp_free: memory allocation error\n",
      "Error detected in file env/alloc.c at line 70\n"
     ]
    },
    {
     "name": "stderr",
     "output_type": "stream",
     "text": [
      "2022-11-14 19:12:09,446 - distributed.nanny - WARNING - Restarting worker\n"
     ]
    },
    {
     "name": "stdout",
     "output_type": "stream",
     "text": [
      "glp_free: memory allocation error\n",
      "Error detected in file env/alloc.c at line 70\n"
     ]
    },
    {
     "name": "stderr",
     "output_type": "stream",
     "text": [
      "2022-11-14 19:12:15,138 - distributed.nanny - WARNING - Restarting worker\n",
      "<frozen importlib._bootstrap>:283: DeprecationWarning: the load_module() method is deprecated and slated for removal in Python 3.12; use exec_module() instead\n",
      "<frozen importlib._bootstrap>:283: DeprecationWarning: the load_module() method is deprecated and slated for removal in Python 3.12; use exec_module() instead\n"
     ]
    },
    {
     "name": "stdout",
     "output_type": "stream",
     "text": [
      "glp_free: memory allocation error\n",
      "Error detected in file env/alloc.c at line 70\n"
     ]
    },
    {
     "name": "stderr",
     "output_type": "stream",
     "text": [
      "ERROR 1: PROJ: proj_create_from_database: Open of /ccsopen/home/braut/analysis-env2/share/proj failed\n",
      "2022-11-14 19:12:23,741 - distributed.nanny - WARNING - Restarting worker\n",
      "ERROR 1: PROJ: proj_create_from_database: Open of /ccsopen/home/braut/analysis-env2/share/proj failed\n",
      "<frozen importlib._bootstrap>:283: DeprecationWarning: the load_module() method is deprecated and slated for removal in Python 3.12; use exec_module() instead\n",
      "ERROR 1: PROJ: proj_create_from_database: Open of /ccsopen/home/braut/analysis-env2/share/proj failed\n"
     ]
    },
    {
     "name": "stdout",
     "output_type": "stream",
     "text": [
      "glp_free: memory allocation error\n",
      "Error detected in file env/alloc.c at line 70\n"
     ]
    },
    {
     "name": "stderr",
     "output_type": "stream",
     "text": [
      "2022-11-14 19:12:35,445 - distributed.worker - WARNING - Compute Failed\n",
      "Key:       run_kdp_to_nc-febd6c305954c5b3b242bae218ea5257\n",
      "Function:  run_kdp_to_nc\n",
      "args:      ('/gpfs/wolf/atm124/proj-shared/gucxprecipradarS2.00/glue_files/202208_glued/xprecipradar_guc_volume_20220825-042238.b1.nc')\n",
      "kwargs:    {}\n",
      "Exception: \"OSError(-51, 'NetCDF: Unknown file format')\"\n",
      "\n"
     ]
    },
    {
     "ename": "OSError",
     "evalue": "[Errno -51] NetCDF: Unknown file format: b'/gpfs/wolf/atm124/proj-shared/gucxprecipradarS2.00/glue_files/202208_glued/xprecipradar_guc_volume_20220825-042238.b1.nc'",
     "output_type": "error",
     "traceback": [
      "\u001b[0;31m---------------------------------------------------------------------------\u001b[0m",
      "\u001b[0;31mOSError\u001b[0m                                   Traceback (most recent call last)",
      "Cell \u001b[0;32mIn [11], line 1\u001b[0m\n\u001b[0;32m----> 1\u001b[0m my_data \u001b[38;5;241m=\u001b[39m \u001b[43mclient\u001b[49m\u001b[38;5;241;43m.\u001b[39;49m\u001b[43mgather\u001b[49m\u001b[43m(\u001b[49m\u001b[43mfuture\u001b[49m\u001b[43m)\u001b[49m\n",
      "File \u001b[0;32m~/analysis-env2/lib/python3.10/site-packages/distributed/client.py:2265\u001b[0m, in \u001b[0;36mClient.gather\u001b[0;34m(self, futures, errors, direct, asynchronous)\u001b[0m\n\u001b[1;32m   2263\u001b[0m \u001b[38;5;28;01melse\u001b[39;00m:\n\u001b[1;32m   2264\u001b[0m     local_worker \u001b[38;5;241m=\u001b[39m \u001b[38;5;28;01mNone\u001b[39;00m\n\u001b[0;32m-> 2265\u001b[0m \u001b[38;5;28;01mreturn\u001b[39;00m \u001b[38;5;28;43mself\u001b[39;49m\u001b[38;5;241;43m.\u001b[39;49m\u001b[43msync\u001b[49m\u001b[43m(\u001b[49m\n\u001b[1;32m   2266\u001b[0m \u001b[43m    \u001b[49m\u001b[38;5;28;43mself\u001b[39;49m\u001b[38;5;241;43m.\u001b[39;49m\u001b[43m_gather\u001b[49m\u001b[43m,\u001b[49m\n\u001b[1;32m   2267\u001b[0m \u001b[43m    \u001b[49m\u001b[43mfutures\u001b[49m\u001b[43m,\u001b[49m\n\u001b[1;32m   2268\u001b[0m \u001b[43m    \u001b[49m\u001b[43merrors\u001b[49m\u001b[38;5;241;43m=\u001b[39;49m\u001b[43merrors\u001b[49m\u001b[43m,\u001b[49m\n\u001b[1;32m   2269\u001b[0m \u001b[43m    \u001b[49m\u001b[43mdirect\u001b[49m\u001b[38;5;241;43m=\u001b[39;49m\u001b[43mdirect\u001b[49m\u001b[43m,\u001b[49m\n\u001b[1;32m   2270\u001b[0m \u001b[43m    \u001b[49m\u001b[43mlocal_worker\u001b[49m\u001b[38;5;241;43m=\u001b[39;49m\u001b[43mlocal_worker\u001b[49m\u001b[43m,\u001b[49m\n\u001b[1;32m   2271\u001b[0m \u001b[43m    \u001b[49m\u001b[43masynchronous\u001b[49m\u001b[38;5;241;43m=\u001b[39;49m\u001b[43masynchronous\u001b[49m\u001b[43m,\u001b[49m\n\u001b[1;32m   2272\u001b[0m \u001b[43m\u001b[49m\u001b[43m)\u001b[49m\n",
      "File \u001b[0;32m~/analysis-env2/lib/python3.10/site-packages/distributed/utils.py:339\u001b[0m, in \u001b[0;36mSyncMethodMixin.sync\u001b[0;34m(self, func, asynchronous, callback_timeout, *args, **kwargs)\u001b[0m\n\u001b[1;32m    337\u001b[0m     \u001b[38;5;28;01mreturn\u001b[39;00m future\n\u001b[1;32m    338\u001b[0m \u001b[38;5;28;01melse\u001b[39;00m:\n\u001b[0;32m--> 339\u001b[0m     \u001b[38;5;28;01mreturn\u001b[39;00m \u001b[43msync\u001b[49m\u001b[43m(\u001b[49m\n\u001b[1;32m    340\u001b[0m \u001b[43m        \u001b[49m\u001b[38;5;28;43mself\u001b[39;49m\u001b[38;5;241;43m.\u001b[39;49m\u001b[43mloop\u001b[49m\u001b[43m,\u001b[49m\u001b[43m \u001b[49m\u001b[43mfunc\u001b[49m\u001b[43m,\u001b[49m\u001b[43m \u001b[49m\u001b[38;5;241;43m*\u001b[39;49m\u001b[43margs\u001b[49m\u001b[43m,\u001b[49m\u001b[43m \u001b[49m\u001b[43mcallback_timeout\u001b[49m\u001b[38;5;241;43m=\u001b[39;49m\u001b[43mcallback_timeout\u001b[49m\u001b[43m,\u001b[49m\u001b[43m \u001b[49m\u001b[38;5;241;43m*\u001b[39;49m\u001b[38;5;241;43m*\u001b[39;49m\u001b[43mkwargs\u001b[49m\n\u001b[1;32m    341\u001b[0m \u001b[43m    \u001b[49m\u001b[43m)\u001b[49m\n",
      "File \u001b[0;32m~/analysis-env2/lib/python3.10/site-packages/distributed/utils.py:406\u001b[0m, in \u001b[0;36msync\u001b[0;34m(loop, func, callback_timeout, *args, **kwargs)\u001b[0m\n\u001b[1;32m    404\u001b[0m \u001b[38;5;28;01mif\u001b[39;00m error:\n\u001b[1;32m    405\u001b[0m     typ, exc, tb \u001b[38;5;241m=\u001b[39m error\n\u001b[0;32m--> 406\u001b[0m     \u001b[38;5;28;01mraise\u001b[39;00m exc\u001b[38;5;241m.\u001b[39mwith_traceback(tb)\n\u001b[1;32m    407\u001b[0m \u001b[38;5;28;01melse\u001b[39;00m:\n\u001b[1;32m    408\u001b[0m     \u001b[38;5;28;01mreturn\u001b[39;00m result\n",
      "File \u001b[0;32m~/analysis-env2/lib/python3.10/site-packages/distributed/utils.py:379\u001b[0m, in \u001b[0;36msync.<locals>.f\u001b[0;34m()\u001b[0m\n\u001b[1;32m    377\u001b[0m         future \u001b[38;5;241m=\u001b[39m asyncio\u001b[38;5;241m.\u001b[39mwait_for(future, callback_timeout)\n\u001b[1;32m    378\u001b[0m     future \u001b[38;5;241m=\u001b[39m asyncio\u001b[38;5;241m.\u001b[39mensure_future(future)\n\u001b[0;32m--> 379\u001b[0m     result \u001b[38;5;241m=\u001b[39m \u001b[38;5;28;01myield\u001b[39;00m future\n\u001b[1;32m    380\u001b[0m \u001b[38;5;28;01mexcept\u001b[39;00m \u001b[38;5;167;01mException\u001b[39;00m:\n\u001b[1;32m    381\u001b[0m     error \u001b[38;5;241m=\u001b[39m sys\u001b[38;5;241m.\u001b[39mexc_info()\n",
      "File \u001b[0;32m~/analysis-env2/lib/python3.10/site-packages/tornado/gen.py:762\u001b[0m, in \u001b[0;36mRunner.run\u001b[0;34m(self)\u001b[0m\n\u001b[1;32m    759\u001b[0m exc_info \u001b[38;5;241m=\u001b[39m \u001b[38;5;28;01mNone\u001b[39;00m\n\u001b[1;32m    761\u001b[0m \u001b[38;5;28;01mtry\u001b[39;00m:\n\u001b[0;32m--> 762\u001b[0m     value \u001b[38;5;241m=\u001b[39m \u001b[43mfuture\u001b[49m\u001b[38;5;241;43m.\u001b[39;49m\u001b[43mresult\u001b[49m\u001b[43m(\u001b[49m\u001b[43m)\u001b[49m\n\u001b[1;32m    763\u001b[0m \u001b[38;5;28;01mexcept\u001b[39;00m \u001b[38;5;167;01mException\u001b[39;00m:\n\u001b[1;32m    764\u001b[0m     exc_info \u001b[38;5;241m=\u001b[39m sys\u001b[38;5;241m.\u001b[39mexc_info()\n",
      "File \u001b[0;32m~/analysis-env2/lib/python3.10/site-packages/distributed/client.py:2128\u001b[0m, in \u001b[0;36mClient._gather\u001b[0;34m(self, futures, errors, direct, local_worker)\u001b[0m\n\u001b[1;32m   2126\u001b[0m         exc \u001b[38;5;241m=\u001b[39m CancelledError(key)\n\u001b[1;32m   2127\u001b[0m     \u001b[38;5;28;01melse\u001b[39;00m:\n\u001b[0;32m-> 2128\u001b[0m         \u001b[38;5;28;01mraise\u001b[39;00m exception\u001b[38;5;241m.\u001b[39mwith_traceback(traceback)\n\u001b[1;32m   2129\u001b[0m     \u001b[38;5;28;01mraise\u001b[39;00m exc\n\u001b[1;32m   2130\u001b[0m \u001b[38;5;28;01mif\u001b[39;00m errors \u001b[38;5;241m==\u001b[39m \u001b[38;5;124m\"\u001b[39m\u001b[38;5;124mskip\u001b[39m\u001b[38;5;124m\"\u001b[39m:\n",
      "Cell \u001b[0;32mIn [2], line 2\u001b[0m, in \u001b[0;36mrun_kdp_to_nc\u001b[0;34m()\u001b[0m\n\u001b[1;32m      1\u001b[0m \u001b[38;5;28;01mdef\u001b[39;00m \u001b[38;5;21mrun_kdp_to_nc\u001b[39m(radar_fname):\n\u001b[0;32m----> 2\u001b[0m     radar \u001b[38;5;241m=\u001b[39m kdp(radar_fname)\n\u001b[1;32m      3\u001b[0m     write_kdp_to_nc(radar_fname, radar)\n",
      "Cell \u001b[0;32mIn [3], line 2\u001b[0m, in \u001b[0;36mkdp\u001b[0;34m()\u001b[0m\n\u001b[1;32m      1\u001b[0m \u001b[38;5;28;01mdef\u001b[39;00m \u001b[38;5;21mkdp\u001b[39m(radar_fname):\n\u001b[0;32m----> 2\u001b[0m     radar \u001b[38;5;241m=\u001b[39m read_sweep(radar_fname, sweep\u001b[38;5;241m=\u001b[39m\u001b[38;5;241m3\u001b[39m)\n\u001b[1;32m      3\u001b[0m     \u001b[38;5;66;03m#### get texture\u001b[39;00m\n\u001b[1;32m      4\u001b[0m     \u001b[38;5;66;03m#radar=texture(radar)\u001b[39;00m\n\u001b[1;32m      5\u001b[0m     PHIDP_LP, KDP_LP \u001b[38;5;241m=\u001b[39m pyart\u001b[38;5;241m.\u001b[39mcorrect\u001b[38;5;241m.\u001b[39mphase_proc_lp(radar, \u001b[38;5;241m0.0\u001b[39m,\n\u001b[1;32m      6\u001b[0m                                                    ncp_field\u001b[38;5;241m=\u001b[39m\u001b[38;5;124m'\u001b[39m\u001b[38;5;124mNCP\u001b[39m\u001b[38;5;124m'\u001b[39m,\n\u001b[1;32m      7\u001b[0m                                                    refl_field\u001b[38;5;241m=\u001b[39m\u001b[38;5;124m'\u001b[39m\u001b[38;5;124mDBZ\u001b[39m\u001b[38;5;124m'\u001b[39m,\n\u001b[1;32m      8\u001b[0m                                                    rhv_field\u001b[38;5;241m=\u001b[39m\u001b[38;5;124m'\u001b[39m\u001b[38;5;124mRHOHV\u001b[39m\u001b[38;5;124m'\u001b[39m,\n\u001b[1;32m      9\u001b[0m                                                    phidp_field\u001b[38;5;241m=\u001b[39m\u001b[38;5;124m'\u001b[39m\u001b[38;5;124mPHIDP\u001b[39m\u001b[38;5;124m'\u001b[39m)\n",
      "Cell \u001b[0;32mIn [4], line 2\u001b[0m, in \u001b[0;36mread_sweep\u001b[0;34m()\u001b[0m\n\u001b[1;32m      1\u001b[0m \u001b[38;5;28;01mdef\u001b[39;00m \u001b[38;5;21mread_sweep\u001b[39m(radar_fname, sweep\u001b[38;5;241m=\u001b[39m\u001b[38;5;241m0\u001b[39m):\n\u001b[0;32m----> 2\u001b[0m     radar \u001b[38;5;241m=\u001b[39m pyart\u001b[38;5;241m.\u001b[39mio\u001b[38;5;241m.\u001b[39mread(radar_fname)\n\u001b[1;32m      3\u001b[0m     radar \u001b[38;5;241m=\u001b[39m radar\u001b[38;5;241m.\u001b[39mextract_sweeps([sweep])\n\u001b[1;32m      4\u001b[0m     \u001b[38;5;28;01mreturn\u001b[39;00m radar\n",
      "File \u001b[0;32m~/analysis-env2/lib/python3.10/site-packages/pyart/io/auto_read.py:106\u001b[0m, in \u001b[0;36mread\u001b[0;34m()\u001b[0m\n\u001b[1;32m    104\u001b[0m     \u001b[38;5;28;01mreturn\u001b[39;00m read_mdv(filename, \u001b[38;5;241m*\u001b[39m\u001b[38;5;241m*\u001b[39mkwargs)\n\u001b[1;32m    105\u001b[0m \u001b[38;5;28;01mif\u001b[39;00m filetype \u001b[38;5;241m==\u001b[39m \u001b[38;5;124m\"\u001b[39m\u001b[38;5;124mNETCDF3\u001b[39m\u001b[38;5;124m\"\u001b[39m \u001b[38;5;129;01mor\u001b[39;00m filetype \u001b[38;5;241m==\u001b[39m \u001b[38;5;124m\"\u001b[39m\u001b[38;5;124mNETCDF4\u001b[39m\u001b[38;5;124m\"\u001b[39m:\n\u001b[0;32m--> 106\u001b[0m     dset \u001b[38;5;241m=\u001b[39m netCDF4\u001b[38;5;241m.\u001b[39mDataset(filename)\n\u001b[1;32m    107\u001b[0m     \u001b[38;5;28;01mif\u001b[39;00m \u001b[38;5;124m'\u001b[39m\u001b[38;5;124mcdm_data_type\u001b[39m\u001b[38;5;124m'\u001b[39m \u001b[38;5;129;01min\u001b[39;00m dset\u001b[38;5;241m.\u001b[39mncattrs():   \u001b[38;5;66;03m# NEXRAD CDM\u001b[39;00m\n\u001b[1;32m    108\u001b[0m         dset\u001b[38;5;241m.\u001b[39mclose()\n",
      "File \u001b[0;32msrc/netCDF4/_netCDF4.pyx:2463\u001b[0m, in \u001b[0;36mnetCDF4._netCDF4.Dataset.__init__\u001b[0;34m()\u001b[0m\n",
      "File \u001b[0;32msrc/netCDF4/_netCDF4.pyx:2026\u001b[0m, in \u001b[0;36mnetCDF4._netCDF4._ensure_nc_success\u001b[0;34m()\u001b[0m\n",
      "\u001b[0;31mOSError\u001b[0m: [Errno -51] NetCDF: Unknown file format: b'/gpfs/wolf/atm124/proj-shared/gucxprecipradarS2.00/glue_files/202208_glued/xprecipradar_guc_volume_20220825-042238.b1.nc'"
     ]
    }
   ],
   "source": [
    "#my_data = client.gather(future)"
   ]
  },
  {
   "cell_type": "code",
   "execution_count": null,
   "id": "d64d68c5-753e-462e-bb70-744a653f372f",
   "metadata": {},
   "outputs": [],
   "source": []
  }
 ],
 "metadata": {
  "kernelspec": {
   "display_name": "analysis-env2",
   "language": "python",
   "name": "analysis-env2"
  },
  "language_info": {
   "codemirror_mode": {
    "name": "ipython",
    "version": 3
   },
   "file_extension": ".py",
   "mimetype": "text/x-python",
   "name": "python",
   "nbconvert_exporter": "python",
   "pygments_lexer": "ipython3",
   "version": "3.10.6"
  }
 },
 "nbformat": 4,
 "nbformat_minor": 5
}
